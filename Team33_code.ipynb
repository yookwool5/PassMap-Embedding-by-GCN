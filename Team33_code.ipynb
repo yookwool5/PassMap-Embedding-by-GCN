{
  "cells": [
    {
      "cell_type": "code",
      "execution_count": 155,
      "id": "6f5fc3ea-52ab-4f6a-ab29-3c407e61e75a",
      "metadata": {
        "colab": {
          "base_uri": "https://localhost:8080/"
        },
        "id": "6f5fc3ea-52ab-4f6a-ab29-3c407e61e75a",
        "outputId": "e3ce3dd8-47b0-4f3f-9a9c-d4eceaab3f01"
      },
      "outputs": [
        {
          "output_type": "stream",
          "name": "stdout",
          "text": [
            "Requirement already satisfied: statsbombpy in /usr/local/lib/python3.10/dist-packages (1.13.0)\n",
            "Requirement already satisfied: pandas in /usr/local/lib/python3.10/dist-packages (from statsbombpy) (2.0.3)\n",
            "Requirement already satisfied: requests in /usr/local/lib/python3.10/dist-packages (from statsbombpy) (2.31.0)\n",
            "Requirement already satisfied: requests-cache in /usr/local/lib/python3.10/dist-packages (from statsbombpy) (1.2.0)\n",
            "Requirement already satisfied: inflect in /usr/local/lib/python3.10/dist-packages (from statsbombpy) (7.2.1)\n",
            "Requirement already satisfied: joblib in /usr/local/lib/python3.10/dist-packages (from statsbombpy) (1.4.2)\n",
            "Requirement already satisfied: more-itertools in /usr/lib/python3/dist-packages (from inflect->statsbombpy) (8.10.0)\n",
            "Requirement already satisfied: typeguard>=4.0.1 in /usr/local/lib/python3.10/dist-packages (from inflect->statsbombpy) (4.3.0)\n",
            "Requirement already satisfied: typing-extensions in /usr/local/lib/python3.10/dist-packages (from inflect->statsbombpy) (4.11.0)\n",
            "Requirement already satisfied: python-dateutil>=2.8.2 in /usr/local/lib/python3.10/dist-packages (from pandas->statsbombpy) (2.9.0.post0)\n",
            "Requirement already satisfied: pytz>=2020.1 in /usr/local/lib/python3.10/dist-packages (from pandas->statsbombpy) (2024.1)\n",
            "Requirement already satisfied: tzdata>=2022.1 in /usr/local/lib/python3.10/dist-packages (from pandas->statsbombpy) (2024.1)\n",
            "Requirement already satisfied: numpy>=1.21.0 in /usr/local/lib/python3.10/dist-packages (from pandas->statsbombpy) (1.25.2)\n",
            "Requirement already satisfied: charset-normalizer<4,>=2 in /usr/local/lib/python3.10/dist-packages (from requests->statsbombpy) (3.3.2)\n",
            "Requirement already satisfied: idna<4,>=2.5 in /usr/local/lib/python3.10/dist-packages (from requests->statsbombpy) (3.7)\n",
            "Requirement already satisfied: urllib3<3,>=1.21.1 in /usr/local/lib/python3.10/dist-packages (from requests->statsbombpy) (2.0.7)\n",
            "Requirement already satisfied: certifi>=2017.4.17 in /usr/local/lib/python3.10/dist-packages (from requests->statsbombpy) (2024.2.2)\n",
            "Requirement already satisfied: attrs>=21.2 in /usr/local/lib/python3.10/dist-packages (from requests-cache->statsbombpy) (23.2.0)\n",
            "Requirement already satisfied: cattrs>=22.2 in /usr/local/lib/python3.10/dist-packages (from requests-cache->statsbombpy) (23.2.3)\n",
            "Requirement already satisfied: platformdirs>=2.5 in /usr/local/lib/python3.10/dist-packages (from requests-cache->statsbombpy) (4.2.2)\n",
            "Requirement already satisfied: url-normalize>=1.4 in /usr/local/lib/python3.10/dist-packages (from requests-cache->statsbombpy) (1.4.3)\n",
            "Requirement already satisfied: exceptiongroup>=1.1.1 in /usr/local/lib/python3.10/dist-packages (from cattrs>=22.2->requests-cache->statsbombpy) (1.2.1)\n",
            "Requirement already satisfied: six>=1.5 in /usr/local/lib/python3.10/dist-packages (from python-dateutil>=2.8.2->pandas->statsbombpy) (1.16.0)\n"
          ]
        }
      ],
      "source": [
        "!pip install statsbombpy"
      ]
    },
    {
      "cell_type": "code",
      "execution_count": 156,
      "id": "gtAaf5gQZWWH",
      "metadata": {
        "colab": {
          "base_uri": "https://localhost:8080/"
        },
        "id": "gtAaf5gQZWWH",
        "outputId": "7ecb5e5e-4df9-4975-e1bd-cc63cf61c083"
      },
      "outputs": [
        {
          "output_type": "stream",
          "name": "stdout",
          "text": [
            "Requirement already satisfied: torch_geometric in /usr/local/lib/python3.10/dist-packages (2.5.3)\n",
            "Requirement already satisfied: tqdm in /usr/local/lib/python3.10/dist-packages (from torch_geometric) (4.66.4)\n",
            "Requirement already satisfied: numpy in /usr/local/lib/python3.10/dist-packages (from torch_geometric) (1.25.2)\n",
            "Requirement already satisfied: scipy in /usr/local/lib/python3.10/dist-packages (from torch_geometric) (1.11.4)\n",
            "Requirement already satisfied: fsspec in /usr/local/lib/python3.10/dist-packages (from torch_geometric) (2024.5.0)\n",
            "Requirement already satisfied: jinja2 in /usr/local/lib/python3.10/dist-packages (from torch_geometric) (3.1.4)\n",
            "Requirement already satisfied: aiohttp in /usr/local/lib/python3.10/dist-packages (from torch_geometric) (3.9.5)\n",
            "Requirement already satisfied: requests in /usr/local/lib/python3.10/dist-packages (from torch_geometric) (2.31.0)\n",
            "Requirement already satisfied: pyparsing in /usr/local/lib/python3.10/dist-packages (from torch_geometric) (3.1.2)\n",
            "Requirement already satisfied: scikit-learn in /usr/local/lib/python3.10/dist-packages (from torch_geometric) (1.2.2)\n",
            "Requirement already satisfied: psutil>=5.8.0 in /usr/local/lib/python3.10/dist-packages (from torch_geometric) (5.9.5)\n",
            "Requirement already satisfied: aiosignal>=1.1.2 in /usr/local/lib/python3.10/dist-packages (from aiohttp->torch_geometric) (1.3.1)\n",
            "Requirement already satisfied: attrs>=17.3.0 in /usr/local/lib/python3.10/dist-packages (from aiohttp->torch_geometric) (23.2.0)\n",
            "Requirement already satisfied: frozenlist>=1.1.1 in /usr/local/lib/python3.10/dist-packages (from aiohttp->torch_geometric) (1.4.1)\n",
            "Requirement already satisfied: multidict<7.0,>=4.5 in /usr/local/lib/python3.10/dist-packages (from aiohttp->torch_geometric) (6.0.5)\n",
            "Requirement already satisfied: yarl<2.0,>=1.0 in /usr/local/lib/python3.10/dist-packages (from aiohttp->torch_geometric) (1.9.4)\n",
            "Requirement already satisfied: async-timeout<5.0,>=4.0 in /usr/local/lib/python3.10/dist-packages (from aiohttp->torch_geometric) (4.0.3)\n",
            "Requirement already satisfied: MarkupSafe>=2.0 in /usr/local/lib/python3.10/dist-packages (from jinja2->torch_geometric) (2.1.5)\n",
            "Requirement already satisfied: charset-normalizer<4,>=2 in /usr/local/lib/python3.10/dist-packages (from requests->torch_geometric) (3.3.2)\n",
            "Requirement already satisfied: idna<4,>=2.5 in /usr/local/lib/python3.10/dist-packages (from requests->torch_geometric) (3.7)\n",
            "Requirement already satisfied: urllib3<3,>=1.21.1 in /usr/local/lib/python3.10/dist-packages (from requests->torch_geometric) (2.0.7)\n",
            "Requirement already satisfied: certifi>=2017.4.17 in /usr/local/lib/python3.10/dist-packages (from requests->torch_geometric) (2024.2.2)\n",
            "Requirement already satisfied: joblib>=1.1.1 in /usr/local/lib/python3.10/dist-packages (from scikit-learn->torch_geometric) (1.4.2)\n",
            "Requirement already satisfied: threadpoolctl>=2.0.0 in /usr/local/lib/python3.10/dist-packages (from scikit-learn->torch_geometric) (3.5.0)\n"
          ]
        }
      ],
      "source": [
        "!pip install torch_geometric"
      ]
    },
    {
      "cell_type": "code",
      "execution_count": 157,
      "id": "6092280b-4122-4960-bdf3-95a2ec7c0ce6",
      "metadata": {
        "colab": {
          "base_uri": "https://localhost:8080/"
        },
        "id": "6092280b-4122-4960-bdf3-95a2ec7c0ce6",
        "outputId": "bc28eafb-572e-45f7-e90a-4c417804a625"
      },
      "outputs": [
        {
          "output_type": "stream",
          "name": "stdout",
          "text": [
            "Requirement already satisfied: scipy==1.11.4 in /usr/local/lib/python3.10/dist-packages (1.11.4)\n",
            "Requirement already satisfied: numpy<1.28.0,>=1.21.6 in /usr/local/lib/python3.10/dist-packages (from scipy==1.11.4) (1.25.2)\n"
          ]
        }
      ],
      "source": [
        "!pip install scipy==1.11.4"
      ]
    },
    {
      "cell_type": "code",
      "execution_count": 208,
      "id": "d78c9792-b0d2-4d1f-a794-c19baa8877f9",
      "metadata": {
        "id": "d78c9792-b0d2-4d1f-a794-c19baa8877f9"
      },
      "outputs": [],
      "source": [
        "import json\n",
        "import pandas as pd\n",
        "import numpy as np\n",
        "from collections import Counter\n",
        "import networkx as nx\n",
        "from sklearn.cluster import KMeans\n",
        "from sklearn.decomposition import PCA\n",
        "from sklearn.metrics import silhouette_score\n",
        "import matplotlib.pyplot as plt\n",
        "import torch\n",
        "from torch_geometric.data import Data\n",
        "import torch.nn.functional as F\n",
        "from torch_geometric.nn import GCNConv\n",
        "from statsbombpy import sb\n",
        "import os\n",
        "import pickle\n",
        "from tqdm import tqdm\n",
        "\n",
        "import warnings\n",
        "warnings.filterwarnings('ignore')"
      ]
    },
    {
      "cell_type": "code",
      "execution_count": 209,
      "id": "uwyIrsCEw_EZ",
      "metadata": {
        "id": "uwyIrsCEw_EZ"
      },
      "outputs": [],
      "source": [
        "#### (Team, (df(x,y,#pass), p1->p2)) X2\n",
        "def generate_pass_map(MATCH_ID: int):\n",
        "    df = sb.events(MATCH_ID)\n",
        "    if len(df) == 0:\n",
        "        return None\n",
        "    pass_df = df.query(\"(type == 'Pass') & \\\n",
        "                    (pass_type not in ['Free Kick', 'Corner', 'Throw-in', 'Kick Off']) & \\\n",
        "                    (pass_outcome not in ['Unknown','Out','Pass Offside','Injury Clearance', 'Incomplete'])\"\n",
        "                   ).reset_index(drop=True)\n",
        "\n",
        "    pass_df[['pass_start_x','pass_start_y']] = pd.DataFrame(pass_df[\"location\"].values.tolist(),\n",
        "                                                            index=pass_df.index)\n",
        "    pass_df[['pass_end_x','pass_end_y']] = pd.DataFrame(pass_df[\"pass_end_location\"].values.tolist(),\n",
        "                                                        index=pass_df.index)\n",
        "\n",
        "    pass_maps = []\n",
        "\n",
        "    for idx in range(2):\n",
        "        starters = df.loc[idx, 'tactics']['lineup']\n",
        "        team_name = df.loc[idx, 'team']\n",
        "        team_pass_df = pass_df.query(f\"team == '{team_name}'\")\n",
        "\n",
        "        if 'Substitution' in df.type.unique() or 'Red Card' in df.type.unique():\n",
        "            try:\n",
        "                ending_minute = df.query(f\"team == '{team_name}' and type==('Substitution', 'Red Card')\").minute.values[0] - 1\n",
        "            except:\n",
        "                return None\n",
        "        else:\n",
        "            ending_minute = team_pass_df.minute.max()\n",
        "\n",
        "        team_pass_df = team_pass_df.query(f\"minute <= {ending_minute}\")\n",
        "\n",
        "        player_location_df = team_pass_df.groupby(['player']).agg(\n",
        "            x=('pass_start_x', 'mean'),\n",
        "            y=('pass_start_y', 'mean'),\n",
        "            total=('pass_start_x', 'size')\n",
        "        ).reset_index()\n",
        "\n",
        "        players_passes_df = team_pass_df.groupby(['player', 'pass_recipient']).agg(\n",
        "            passes=('pass_start_x', 'size')\n",
        "        ).reset_index()\n",
        "\n",
        "        pass_maps.append((team_name, (player_location_df, players_passes_df)))\n",
        "\n",
        "    return pass_maps"
      ]
    },
    {
      "cell_type": "code",
      "execution_count": 210,
      "id": "tcM86Yu_ZHrt",
      "metadata": {
        "id": "tcM86Yu_ZHrt"
      },
      "outputs": [],
      "source": [
        "# create graph that can apply GCN\n",
        "def create_graph_data(player_location_df, players_passes_df):\n",
        "    nodes = []\n",
        "    edges = []\n",
        "    edge_weights = []\n",
        "    node_features = []\n",
        "\n",
        "    player_index = {player: idx for idx, player in enumerate(player_location_df['player'])}\n",
        "\n",
        "    pass_total = sum(player_location_df['total'])\n",
        "\n",
        "    for index, row in player_location_df.iterrows():\n",
        "        nodes.append(player_index[row['player']])\n",
        "        node_features.append([row['x'], row['y'], row['total'] / pass_total])\n",
        "\n",
        "    for index, row in players_passes_df.iterrows():\n",
        "        if row['player'] in player_index and row['pass_recipient'] in player_index:\n",
        "            edges.append([player_index[row['player']], player_index[row['pass_recipient']]])\n",
        "            edge_weights.append(row['passes'])\n",
        "\n",
        "    edge_index = torch.tensor(edges, dtype=torch.long).t().contiguous()\n",
        "    x = torch.tensor(node_features, dtype=torch.float)\n",
        "    edge_attr = torch.tensor(edge_weights, dtype=torch.float)\n",
        "\n",
        "    data = Data(x=x, edge_index=edge_index, edge_attr=edge_attr)\n",
        "    return data, player_index"
      ]
    },
    {
      "cell_type": "code",
      "execution_count": 211,
      "id": "cd89d1be-1265-41bb-a19a-b0129350dcd5",
      "metadata": {
        "id": "cd89d1be-1265-41bb-a19a-b0129350dcd5"
      },
      "outputs": [],
      "source": [
        "class Match:\n",
        "    def __init__(self, match):\n",
        "        self.match_id = match[\"match_id\"]\n",
        "        self.home_team = match[\"home_team\"]['home_team_name']\n",
        "        self.away_team = match[\"away_team\"]['away_team_name']\n",
        "        self.home_score = match[\"home_score\"]\n",
        "        self.away_score = match[\"away_score\"]\n",
        "        self.league = match[\"competition\"][\"competition_name\"]\n",
        "        self.season = match[\"season\"][\"season_name\"]\n",
        "        self.home_team_cluster = None  # Initialize cluster label for home team\n",
        "        self.away_team_cluster = None  # Initialize cluster label for away team\n",
        "\n",
        "    def _get_match_info(self):\n",
        "        info = {\n",
        "            \"match_id\" : self.match_id,\n",
        "            \"home_team\" : self.home_team,\n",
        "            \"away_team\" : self.away_team,\n",
        "            \"score\" : str(self.home_score)+ ':' +str(self.away_score),\n",
        "            \"league\" : self.league,\n",
        "            \"season\" : self.season,\n",
        "            \"home_team_cluster\": self.home_team_cluster,\n",
        "            \"away_team_cluster\": self.away_team_cluster\n",
        "        }\n",
        "        return info"
      ]
    },
    {
      "cell_type": "code",
      "source": [
        "# Running in colab\n",
        "from google.colab import drive\n",
        "drive.mount('/content/drive')"
      ],
      "metadata": {
        "colab": {
          "base_uri": "https://localhost:8080/"
        },
        "id": "oxHf3PAkq84I",
        "outputId": "6b9e640b-e3d0-437f-c7e3-e2aa2033ecd1"
      },
      "id": "oxHf3PAkq84I",
      "execution_count": 212,
      "outputs": [
        {
          "output_type": "stream",
          "name": "stdout",
          "text": [
            "Drive already mounted at /content/drive; to attempt to forcibly remount, call drive.mount(\"/content/drive\", force_remount=True).\n"
          ]
        }
      ]
    },
    {
      "cell_type": "code",
      "source": [
        "# User path\n",
        "os.chdir('/content/drive/MyDrive/CS471 Project')"
      ],
      "metadata": {
        "id": "1vx4SWuyrIzF"
      },
      "id": "1vx4SWuyrIzF",
      "execution_count": 213,
      "outputs": []
    },
    {
      "cell_type": "code",
      "execution_count": 214,
      "id": "64f01919-1111-49f3-9e02-a97bbe91b466",
      "metadata": {
        "id": "64f01919-1111-49f3-9e02-a97bbe91b466"
      },
      "outputs": [],
      "source": [
        "match_list = []\n",
        "for folders in os.listdir('./matches/'):\n",
        "    path = os.path.join('./matches/', folders)\n",
        "    if os.path.isdir(path):\n",
        "        for matches in os.listdir(path):\n",
        "            if matches[-1] == 'n':\n",
        "                path2 = os.path.join(path, matches)\n",
        "                md = pd.read_json(path2)\n",
        "                for _, row in md.iterrows():\n",
        "                    match = Match(row)\n",
        "                    match_list.append(match)"
      ]
    },
    {
      "cell_type": "code",
      "execution_count": 215,
      "id": "885bc0ed-501a-41b8-9d3e-ff0b16880fb9",
      "metadata": {
        "colab": {
          "base_uri": "https://localhost:8080/"
        },
        "id": "885bc0ed-501a-41b8-9d3e-ff0b16880fb9",
        "outputId": "991b9d21-c47f-46ca-de9f-9d6a9731d612"
      },
      "outputs": [
        {
          "output_type": "stream",
          "name": "stdout",
          "text": [
            "380\n",
            "380\n",
            "380\n",
            "377\n",
            "306\n",
            "1823\n"
          ]
        }
      ],
      "source": [
        "LaLiga_match_id = []\n",
        "SerieA_match_id = []\n",
        "PL_match_id = []\n",
        "Ligue1_match_id = []\n",
        "Bundesliga_match_id = []\n",
        "big_league_1516_id = []\n",
        "\n",
        "for match in match_list :\n",
        "    if match.league == 'La Liga' and match.season == '2015/2016':\n",
        "        LaLiga_match_id.append(match.match_id)\n",
        "    if match.league == 'Serie A' and match.season == '2015/2016':\n",
        "        SerieA_match_id.append(match.match_id)\n",
        "    if match.league == 'Premier League' and match.season == '2015/2016':\n",
        "        PL_match_id.append(match.match_id)\n",
        "    if match.league == 'Ligue 1' and match.season == '2015/2016':\n",
        "        Ligue1_match_id.append(match.match_id)\n",
        "    if match.league == '1. Bundesliga' and match.season == '2015/2016':\n",
        "        Bundesliga_match_id.append(match.match_id)\n",
        "\n",
        "big_league_1516_id = LaLiga_match_id + SerieA_match_id + PL_match_id + Ligue1_match_id + Bundesliga_match_id\n",
        "\n",
        "print(len(LaLiga_match_id))\n",
        "print(len(SerieA_match_id))\n",
        "print(len(PL_match_id))\n",
        "print(len(Ligue1_match_id))\n",
        "print(len(Bundesliga_match_id))\n",
        "print(len(big_league_1516_id))"
      ]
    },
    {
      "cell_type": "code",
      "execution_count": 216,
      "id": "mjMfUsIxDaIB",
      "metadata": {
        "id": "mjMfUsIxDaIB"
      },
      "outputs": [],
      "source": [
        "# 2-layered GCN\n",
        "class GCN(torch.nn.Module):\n",
        "    def __init__(self, in_channels, out_channels):\n",
        "        super(GCN, self).__init__()\n",
        "        self.conv1 = GCNConv(in_channels, 16)\n",
        "        self.conv2 = GCNConv(16, out_channels)\n",
        "\n",
        "    def forward(self, data):\n",
        "        x, edge_index = data.x, data.edge_index\n",
        "\n",
        "        x = self.conv1(x, edge_index)\n",
        "        x = F.relu(x)\n",
        "        x = self.conv2(x, edge_index)\n",
        "\n",
        "        return x"
      ]
    },
    {
      "cell_type": "code",
      "execution_count": 217,
      "id": "ChCpJwkWaCa_",
      "metadata": {
        "id": "ChCpJwkWaCa_"
      },
      "outputs": [],
      "source": [
        "# simple mse for loss\n",
        "def custom_loss(output1, output2):\n",
        "    return torch.mean((output1 - output2) ** 2)\n",
        "\n",
        "# use batch size 30, and epoch 7 for training GCN\n",
        "# model changes after every batch and player_embeddings are keep updating every epoch\n",
        "def train_gcn(model, match_ids, player_style, epochs, batch_size=30):\n",
        "    print(\"MODEL TRAINING STARTS\")\n",
        "    optimizer = torch.optim.Adam(model.parameters(), lr=0.005)\n",
        "    model.train()\n",
        "\n",
        "    for epoch in range(1, epochs + 1):\n",
        "        total_loss = 0\n",
        "        player_style = {}\n",
        "        np.random.shuffle(match_ids)  # Shuffle match_ids for each epoch\n",
        "\n",
        "        for i in tqdm(range(0, len(match_ids), batch_size)):\n",
        "            batch_ids = match_ids[i:i + batch_size]\n",
        "            optimizer.zero_grad()\n",
        "            batch_loss = 0\n",
        "\n",
        "            for match_id in batch_ids:\n",
        "                team_pass_maps = generate_pass_map(match_id)\n",
        "\n",
        "                # Dealing with some error generating matches\n",
        "                if team_pass_maps is None:\n",
        "                    continue\n",
        "                if len(team_pass_maps[0][1][0]) < 3:\n",
        "                    continue\n",
        "\n",
        "                for team_name, (player_location_df, players_passes_df) in team_pass_maps:\n",
        "                    data, player_index = create_graph_data(player_location_df, players_passes_df)\n",
        "                    output = model(data)\n",
        "\n",
        "                    loss = torch.zeros(1, requires_grad=True, device=output.device)\n",
        "                    for player, idx in player_index.items():\n",
        "                        if player in player_style and player_style[player]:\n",
        "                            for emb in player_style[player]:\n",
        "                                emb_tensor = torch.tensor(emb, device=output.device)\n",
        "                                loss = loss + custom_loss(output[idx], emb_tensor)\n",
        "\n",
        "                    batch_loss += loss\n",
        "\n",
        "                    # Update player_style with the new embeddings\n",
        "                    for player, idx in player_index.items():\n",
        "                        if player in player_style:\n",
        "                            player_style[player].append(output[idx].detach().cpu().numpy())\n",
        "                        else:\n",
        "                            player_style[player] = [output[idx].detach().cpu().numpy()]\n",
        "\n",
        "            batch_loss.backward()\n",
        "            optimizer.step()\n",
        "            total_loss += batch_loss.item()\n",
        "\n",
        "        print(f\"Epoch {epoch}, Loss {total_loss}\")\n",
        "\n",
        "    return player_style"
      ]
    },
    {
      "cell_type": "code",
      "execution_count": 37,
      "id": "3i83H31GqtgR",
      "metadata": {
        "colab": {
          "base_uri": "https://localhost:8080/"
        },
        "id": "3i83H31GqtgR",
        "outputId": "0cdca97f-215e-4fa2-d436-4d6c2ca7a9cd"
      },
      "outputs": [
        {
          "output_type": "stream",
          "name": "stdout",
          "text": [
            "MODEL TRAINING STARTS\n"
          ]
        },
        {
          "output_type": "stream",
          "name": "stderr",
          "text": [
            "100%|██████████| 61/61 [16:49<00:00, 16.54s/it]\n"
          ]
        },
        {
          "output_type": "stream",
          "name": "stdout",
          "text": [
            "Epoch 1, Loss 494759.909576416\n"
          ]
        },
        {
          "output_type": "stream",
          "name": "stderr",
          "text": [
            "100%|██████████| 61/61 [15:55<00:00, 15.66s/it]\n"
          ]
        },
        {
          "output_type": "stream",
          "name": "stdout",
          "text": [
            "Epoch 2, Loss 367305.71852111816\n"
          ]
        },
        {
          "output_type": "stream",
          "name": "stderr",
          "text": [
            "100%|██████████| 61/61 [16:17<00:00, 16.03s/it]\n"
          ]
        },
        {
          "output_type": "stream",
          "name": "stdout",
          "text": [
            "Epoch 3, Loss 341107.67866516113\n"
          ]
        },
        {
          "output_type": "stream",
          "name": "stderr",
          "text": [
            "100%|██████████| 61/61 [16:27<00:00, 16.18s/it]\n"
          ]
        },
        {
          "output_type": "stream",
          "name": "stdout",
          "text": [
            "Epoch 4, Loss 262027.22255325317\n"
          ]
        },
        {
          "output_type": "stream",
          "name": "stderr",
          "text": [
            "100%|██████████| 61/61 [16:12<00:00, 15.94s/it]\n"
          ]
        },
        {
          "output_type": "stream",
          "name": "stdout",
          "text": [
            "Epoch 5, Loss 205016.5145225525\n"
          ]
        },
        {
          "output_type": "stream",
          "name": "stderr",
          "text": [
            "100%|██████████| 61/61 [16:12<00:00, 15.94s/it]\n"
          ]
        },
        {
          "output_type": "stream",
          "name": "stdout",
          "text": [
            "Epoch 6, Loss 184255.5615119934\n"
          ]
        },
        {
          "output_type": "stream",
          "name": "stderr",
          "text": [
            "100%|██████████| 61/61 [16:03<00:00, 15.79s/it]\n"
          ]
        },
        {
          "output_type": "stream",
          "name": "stdout",
          "text": [
            "Epoch 7, Loss 157914.23932266235\n"
          ]
        },
        {
          "output_type": "stream",
          "name": "stderr",
          "text": [
            "100%|██████████| 61/61 [15:58<00:00, 15.71s/it]"
          ]
        },
        {
          "output_type": "stream",
          "name": "stdout",
          "text": [
            "Epoch 8, Loss 135353.83237838745\n"
          ]
        },
        {
          "output_type": "stream",
          "name": "stderr",
          "text": [
            "\n"
          ]
        }
      ],
      "source": [
        "# This is a heavy cell so it is possible to use pickle file below\n",
        "model = GCN(in_channels=3, out_channels=64)\n",
        "player_style = train_gcn(model, big_league_1516_id, {}, 8)"
      ]
    },
    {
      "cell_type": "code",
      "execution_count": 38,
      "id": "6-SWPlp-mpo6",
      "metadata": {
        "id": "6-SWPlp-mpo6"
      },
      "outputs": [],
      "source": [
        "with open('player_style.pickle', 'wb') as f:\n",
        "  pickle.dump(player_style, f)"
      ]
    },
    {
      "cell_type": "code",
      "source": [
        "with open('player_style.pickle', 'rb') as f:\n",
        "  player_style = pickle.load(f)"
      ],
      "metadata": {
        "id": "H-CYGp8DnEDe"
      },
      "id": "H-CYGp8DnEDe",
      "execution_count": 218,
      "outputs": []
    },
    {
      "cell_type": "code",
      "execution_count": 219,
      "id": "qew_h79lFshC",
      "metadata": {
        "id": "qew_h79lFshC"
      },
      "outputs": [],
      "source": [
        "# mean-pooling to get each players' embedding vector\n",
        "player_embeddings_1516 = {}\n",
        "for name, styles in player_style.items():\n",
        "    player_embeddings_1516[name] = np.mean(styles, axis=0)"
      ]
    },
    {
      "cell_type": "code",
      "execution_count": 220,
      "id": "oSb7rzrlgOFz",
      "metadata": {
        "colab": {
          "base_uri": "https://localhost:8080/"
        },
        "id": "oSb7rzrlgOFz",
        "outputId": "862bbca3-b370-4a5a-9a6c-5d3c2084ea60"
      },
      "outputs": [
        {
          "output_type": "stream",
          "name": "stdout",
          "text": [
            "['Raúl Albiol i Tortajada', 'Lars Edi Stindl', 'David Olatukunbo Alaba', 'Benjamin Stambouli', 'Stevan Jovetić', 'Almen Abdi', 'Eric Dier', 'Álvaro Medrán Just', 'Saphir Sliti Taïder', 'Glenn Whelan']\n"
          ]
        }
      ],
      "source": [
        "from sklearn.metrics.pairwise import cosine_similarity\n",
        "\n",
        "def find_most_similar_players(player_name, player_embeddings, top_n):\n",
        "    target_vector = player_embeddings[player_name].reshape(1, -1)\n",
        "\n",
        "    similarities = {}\n",
        "    for id, vector in player_embeddings.items():\n",
        "        if id != player_name:\n",
        "            similarity = cosine_similarity(target_vector, vector.reshape(1, -1))[0][0]\n",
        "            similarities[id] = similarity\n",
        "\n",
        "    # Sort by similarity and extract the top N ids\n",
        "    most_similar_ids = sorted(similarities, key=similarities.get, reverse=True)[:top_n]\n",
        "    return most_similar_ids\n",
        "\n",
        "input_name = \"Heung-Min Son\"\n",
        "most_similar_players = find_most_similar_players(input_name, player_embeddings_1516, top_n=10)\n",
        "print(most_similar_players)"
      ]
    },
    {
      "cell_type": "code",
      "execution_count": 221,
      "id": "af49d8a1-1b26-443e-bae7-4d0768a46db6",
      "metadata": {
        "id": "af49d8a1-1b26-443e-bae7-4d0768a46db6"
      },
      "outputs": [],
      "source": [
        "from sklearn.cluster import KMeans\n",
        "from sklearn.manifold import TSNE\n",
        "import matplotlib.pyplot as plt\n",
        "from sklearn.cluster import DBSCAN\n",
        "from sklearn.mixture import GaussianMixture\n",
        "\n",
        "\n",
        "player_names_1516= list(player_embeddings_1516.keys())\n",
        "data_1516 = np.array(list(player_embeddings_1516.values()))\n",
        "data_1516.shape\n",
        "\n",
        "gmm = GaussianMixture(n_components=10)\n",
        "labels = gmm.fit_predict(data_1516)"
      ]
    },
    {
      "cell_type": "code",
      "execution_count": 44,
      "id": "J0J8gK7tgC3B",
      "metadata": {
        "colab": {
          "base_uri": "https://localhost:8080/"
        },
        "id": "J0J8gK7tgC3B",
        "outputId": "a7731365-bf41-4eed-cb3a-d86cc9e31651"
      },
      "outputs": [
        {
          "output_type": "stream",
          "name": "stdout",
          "text": [
            "Processed 100 matches\n",
            "Processed 200 matches\n",
            "Processed 300 matches\n",
            "Processed 400 matches\n",
            "Processed 500 matches\n",
            "Processed 600 matches\n",
            "Processed 700 matches\n",
            "Processed 800 matches\n",
            "Processed 900 matches\n",
            "Processed 1000 matches\n",
            "Processed 1100 matches\n",
            "Processed 1200 matches\n",
            "Processed 1300 matches\n",
            "Processed 1400 matches\n",
            "Processed 1500 matches\n",
            "Processed 1600 matches\n",
            "Processed 1700 matches\n",
            "Processed 1800 matches\n"
          ]
        }
      ],
      "source": [
        "# For each player, what position did he played the most throughout the season\n",
        "name_positions_list = {}\n",
        "num=0\n",
        "\n",
        "for match_id in big_league_1516_id:\n",
        "    num += 1\n",
        "    if num % 100 == 0:\n",
        "        print(f\"Processed {num} matches\")\n",
        "    df = sb.events(match_id)\n",
        "    if len(df) == 0:\n",
        "        continue\n",
        "\n",
        "    for idx in range(2):\n",
        "        starters = df.loc[idx, 'tactics']['lineup']\n",
        "        for player in starters:\n",
        "            if player['player']['name'] not in name_positions_list:\n",
        "                name_positions_list[player['player']['name']] = [player['position']['name']]\n",
        "            else:\n",
        "                name_positions_list[player['player']['name']].append(player['position']['name'])\n",
        "\n",
        "name_position = {}\n",
        "\n",
        "for name, positions in name_positions_list.items():\n",
        "    position_counter = Counter(positions)\n",
        "    position, _ = position_counter.most_common(1)[0]\n",
        "    name_position[name] = position"
      ]
    },
    {
      "cell_type": "code",
      "source": [
        "lcr = []\n",
        "for player in tqdm(player_names_1516) :\n",
        "    pos = name_position[player]\n",
        "\n",
        "    # More well-classified results when using less class\n",
        "    '''\n",
        "    if pos == 'Goalkeeper' in pos:\n",
        "      lcr.append(0)\n",
        "    elif 'Back' in pos:\n",
        "      lcr.append(1)\n",
        "    elif 'Midfield' in pos:\n",
        "      lcr.append(2)\n",
        "    else:\n",
        "      lcr.append(3)\n",
        "      '''\n",
        "\n",
        "    #However we used more class for precise results\n",
        "    if pos == 'Goalkeeper' in pos:\n",
        "        lcr.append(0)\n",
        "    elif 'Center Back' in pos :\n",
        "        lcr.append(1)\n",
        "    elif 'Midfield' in pos :\n",
        "        lcr.append(2)\n",
        "    elif 'Left Back' in pos :\n",
        "        lcr.append(3)\n",
        "    elif 'Right Back' in pos :\n",
        "        lcr.append(4)\n",
        "    elif 'Left Wing' in pos :\n",
        "        lcr.append(5)\n",
        "    elif 'Right Wing' in pos :\n",
        "        lcr.append(6)\n",
        "    elif 'Forward' in pos :\n",
        "        lcr.append(7)\n",
        "    else :\n",
        "        print(name_position[player])\n",
        "\n",
        "tsne = TSNE(n_components=2, random_state=42)\n",
        "data_2d = tsne.fit_transform(data_1516)\n",
        "plt.figure(figsize=(12, 8))\n",
        "scatter = plt.scatter(data_2d[:, 0], data_2d[:, 1], c=lcr, cmap='gist_rainbow', s=20)\n",
        "plt.colorbar(scatter)\n",
        "plt.title('t-SNE visualization')\n",
        "plt.show()"
      ],
      "metadata": {
        "colab": {
          "base_uri": "https://localhost:8080/",
          "height": 717
        },
        "id": "QYbgpj7rQ4di",
        "outputId": "06eac35c-a30d-43f6-ac4f-c781dceb8eb5"
      },
      "id": "QYbgpj7rQ4di",
      "execution_count": 222,
      "outputs": [
        {
          "output_type": "stream",
          "name": "stderr",
          "text": [
            "100%|██████████| 2416/2416 [00:00<00:00, 711667.85it/s]\n"
          ]
        },
        {
          "output_type": "display_data",
          "data": {
            "text/plain": [
              "<Figure size 1200x800 with 2 Axes>"
            ],
            "image/png": "[encoded data removed]"
          },
          "metadata": {}
        }
      ]
    },
    {
      "cell_type": "markdown",
      "source": [
        "# Team Level Analysis"
      ],
      "metadata": {
        "id": "C85n0d9q00uK"
      },
      "id": "C85n0d9q00uK"
    },
    {
      "cell_type": "code",
      "source": [
        "import torch\n",
        "import torch.nn as nn\n",
        "import torch.nn.functional as F\n",
        "\n",
        "class TeamPoolingModel(nn.Module):\n",
        "    def __init__(self, input_dim, hidden_dim, output_dim):\n",
        "        super(TeamPoolingModel, self).__init__()\n",
        "        self.fc1 = nn.Linear(input_dim, hidden_dim)\n",
        "        self.fc2 = nn.Linear(hidden_dim, hidden_dim)\n",
        "        self.fc3 = nn.Linear(hidden_dim, output_dim)\n",
        "\n",
        "    def forward(self, player_embeddings):\n",
        "        # First pooling layer\n",
        "        x = torch.mean(player_embeddings, dim=0, keepdim=True)\n",
        "        x = F.relu(self.fc1(x))\n",
        "\n",
        "        # Second pooling layer\n",
        "        x = torch.mean(x, dim=0, keepdim=True)\n",
        "        x = F.relu(self.fc2(x))\n",
        "\n",
        "        # Final layer\n",
        "        team_embedding = self.fc3(x)\n",
        "        return team_embedding.squeeze()\n",
        "\n",
        "input_dim = player_embeddings_1516[next(iter(player_embeddings_1516))].shape[0]\n",
        "hidden_dim = 128\n",
        "output_dim = 64\n",
        "model = TeamPoolingModel(input_dim, hidden_dim, output_dim)"
      ],
      "metadata": {
        "id": "rnuVJZ3V035O"
      },
      "id": "rnuVJZ3V035O",
      "execution_count": 223,
      "outputs": []
    },
    {
      "cell_type": "code",
      "source": [
        "# generate team_vectors which is array of players embedding vectors\n",
        "def pool_player_embeddings_with_model(match_id, player_embeddings, generate_pass_map):\n",
        "    team_vectors = {}\n",
        "    team_pass_maps = generate_pass_map(match_id)\n",
        "\n",
        "    if team_pass_maps is None:\n",
        "        return None\n",
        "\n",
        "    for team_name, (player_location_df, players_passes_df) in team_pass_maps:\n",
        "        player_ids = player_location_df['player']\n",
        "        team_embedding_list = []\n",
        "\n",
        "        for player in player_ids:\n",
        "            if player in player_embeddings:\n",
        "                team_embedding_list.append(player_embeddings[player])\n",
        "\n",
        "        if team_embedding_list:\n",
        "            player_embeddings_tensor = torch.tensor(team_embedding_list, dtype=torch.float32)\n",
        "            team_vectors[team_name] = player_embeddings_tensor\n",
        "\n",
        "    return team_vectors"
      ],
      "metadata": {
        "id": "YgbScQ2L427u"
      },
      "id": "YgbScQ2L427u",
      "execution_count": 224,
      "outputs": []
    },
    {
      "cell_type": "code",
      "source": [
        "match_id = big_league_1516_id[0]\n",
        "team_vectors = pool_player_embeddings_with_model(match_id, player_embeddings_1516, generate_pass_map)\n",
        "print(team_vectors)"
      ],
      "metadata": {
        "colab": {
          "base_uri": "https://localhost:8080/"
        },
        "id": "pRcVYFnF45fe",
        "outputId": "a02c1d23-bf34-4d8c-9156-28a2e7e6cd43"
      },
      "id": "pRcVYFnF45fe",
      "execution_count": 225,
      "outputs": [
        {
          "output_type": "stream",
          "name": "stdout",
          "text": [
            "{'Levante UD': tensor([[ 4.8646, -6.5578,  7.3427,  6.3090,  6.1618, -4.0152,  2.8136, -2.0872,\n",
            "         -4.7980,  3.3548,  1.9397, -7.9864, -1.8273, -3.5406, -2.4054,  2.4243,\n",
            "          0.6308,  1.3341, -6.0114, -4.7607,  4.4404,  4.0009,  4.6004, -3.2664,\n",
            "          2.1208, -2.5556, -6.0793,  1.7750,  5.1696, -3.2102,  3.3716, -2.4306,\n",
            "         -3.0306,  5.5359,  9.4952, -2.5211,  4.6040, -5.2926,  3.6559, -0.9860,\n",
            "          0.8179,  4.5519,  4.8536, -8.6308,  1.8120, -4.4159, -2.0505, -5.4275,\n",
            "          4.5954,  2.0019,  1.7873, -6.9853,  1.8602,  0.4910, -5.2040, -6.0724,\n",
            "          3.5407, -7.4772,  3.3518,  3.8725,  4.6292, -2.0409, -3.0053, -3.4188],\n",
            "        [ 5.0446, -6.8092,  7.6295,  6.5435,  6.3952, -4.1546,  2.9057, -2.1530,\n",
            "         -4.9779,  3.4722,  2.0052, -8.3000, -1.8791, -3.6587, -2.4732,  2.5014,\n",
            "          0.6491,  1.3848, -6.2415, -4.9368,  4.6041,  4.1396,  4.7761, -3.3907,\n",
            "          2.1860, -2.6357, -6.3093,  1.8369,  5.3587, -3.3141,  3.4830, -2.5126,\n",
            "         -3.1376,  5.7488,  9.8655, -2.6059,  4.7693, -5.4883,  3.7836, -1.0237,\n",
            "          0.8491,  4.7157,  5.0228, -8.9680,  1.8768, -4.5714, -2.1197, -5.6225,\n",
            "          4.7563,  2.0675,  1.8436, -7.2486,  1.9197,  0.5055, -5.3984, -6.3019,\n",
            "          3.6582, -7.7738,  3.4760,  4.0062,  4.7892, -2.1044, -3.1038, -3.5324],\n",
            "        [ 5.4477, -7.3777,  8.2657,  7.0962,  6.9120, -4.4695,  3.1327, -2.3013,\n",
            "         -5.3602,  3.7334,  2.1368, -9.0094, -2.0121, -3.9253, -2.6424,  2.6815,\n",
            "          0.6679,  1.4706, -6.7529, -5.3203,  4.9572,  4.4632,  5.1524, -3.6403,\n",
            "          2.3516, -2.8367, -6.8360,  1.9608,  5.7812, -3.5622,  3.7419, -2.6884,\n",
            "         -3.3604,  6.2054, 10.7314, -2.7930,  5.1315, -5.9249,  4.0567, -1.0828,\n",
            "          0.9076,  5.0836,  5.4339, -9.7452,  2.0010, -4.9331, -2.2626, -6.0816,\n",
            "          5.1446,  2.2218,  1.9706, -7.8571,  2.0538,  0.5675, -5.8177, -6.8212,\n",
            "          3.9486, -8.4281,  3.7324,  4.3326,  5.1639, -2.2662, -3.3337, -3.8025],\n",
            "        [ 5.2476, -7.0948,  7.9522,  6.8186,  6.6583, -4.3107,  3.0189, -2.2293,\n",
            "         -5.1713,  3.6013,  2.0727, -8.6637, -1.9463, -3.7940, -2.5569,  2.5931,\n",
            "          0.6581,  1.4282, -6.5006, -5.1292,  4.7807,  4.3006,  4.9670, -3.5187,\n",
            "          2.2671, -2.7355, -6.5740,  1.8979,  5.5721, -3.4374,  3.6144, -2.6028,\n",
            "         -3.2526,  5.9790, 10.3068, -2.6993,  4.9523, -5.7089,  3.9203, -1.0545,\n",
            "          0.8797,  4.8977,  5.2254, -9.3633,  1.9395, -4.7516, -2.1914, -5.8519,\n",
            "          4.9488,  2.1446,  1.9089, -7.5577,  1.9858,  0.5358, -5.6097, -6.5625,\n",
            "          3.8006, -8.1089,  3.6029,  4.1666,  4.9756, -2.1834, -3.2177, -3.6651],\n",
            "        [ 5.5126, -7.4597,  8.3666,  7.1687,  6.9948, -4.5185,  3.1676, -2.3258,\n",
            "         -5.4194,  3.7718,  2.1662, -9.1229, -2.0351, -3.9747, -2.6696,  2.7117,\n",
            "          0.6761,  1.4891, -6.8332, -5.3836,  5.0041,  4.5085,  5.2132, -3.6826,\n",
            "          2.3772, -2.8608, -6.9076,  1.9773,  5.8416, -3.5915,  3.7828, -2.7201,\n",
            "         -3.4015,  6.2675, 10.8625, -2.8247,  5.1883, -5.9907,  4.1010, -1.0980,\n",
            "          0.9273,  5.1393,  5.4827, -9.8613,  2.0209, -4.9846, -2.2891, -6.1480,\n",
            "          5.1934,  2.2392,  1.9974, -7.9460,  2.0780,  0.5764, -5.8819, -6.8888,\n",
            "          3.9806, -8.5285,  3.7660,  4.3718,  5.2197, -2.2913, -3.3743, -3.8401],\n",
            "        [ 4.8800, -6.5768,  7.3736,  6.3214,  6.1979, -4.0296,  2.8171, -2.0946,\n",
            "         -4.8203,  3.3672,  1.9510, -8.0090, -1.8244, -3.5646, -2.4010,  2.4385,\n",
            "          0.6423,  1.3405, -6.0358, -4.7877,  4.4671,  4.0109,  4.6188, -3.2852,\n",
            "          2.1174, -2.5567, -6.0875,  1.7769,  5.1934, -3.2146,  3.3848, -2.4425,\n",
            "         -3.0497,  5.5660,  9.5175, -2.5333,  4.6311, -5.3195,  3.6765, -0.9942,\n",
            "          0.8275,  4.5628,  4.8519, -8.6521,  1.8249, -4.4240, -2.0589, -5.4335,\n",
            "          4.6043,  2.0098,  1.7930, -7.0077,  1.8622,  0.4908, -5.2319, -6.0990,\n",
            "          3.5432, -7.5127,  3.3590,  3.8823,  4.6449, -2.0458, -3.0062, -3.4225],\n",
            "        [ 4.2587, -5.6488,  6.3278,  5.4310,  5.3537, -3.5137,  2.4548, -1.8311,\n",
            "         -4.1710,  2.9443,  1.7226, -6.8608, -1.6143, -3.1284, -2.1551,  2.1543,\n",
            "          0.5916,  1.1975, -5.2191, -4.1750,  3.8681,  3.4939,  4.0112, -2.8750,\n",
            "          1.8908, -2.2318, -5.2249,  1.5738,  4.4865, -2.7993,  2.9547, -2.1441,\n",
            "         -2.6598,  4.7898,  8.1382, -2.2167,  4.0068, -4.6112,  3.2164, -0.9094,\n",
            "          0.7190,  3.9670,  4.1795, -7.3980,  1.6396, -3.8320, -1.8305, -4.6969,\n",
            "          3.9696,  1.7307,  1.5873, -6.0154,  1.6646,  0.3886, -4.5270, -5.2291,\n",
            "          3.0854, -6.4261,  2.9192,  3.3426,  4.0619, -1.7951, -2.6540, -2.9941],\n",
            "        [ 5.4185, -7.3116,  8.2027,  7.0212,  6.8734, -4.4326,  3.1039, -2.2876,\n",
            "         -5.3389,  3.7051,  2.1434, -8.9414, -1.9945, -3.9102, -2.6285,  2.6747,\n",
            "          0.6914,  1.4844, -6.7114, -5.2941,  4.9229,  4.4267,  5.1345, -3.6500,\n",
            "          2.3357, -2.7987, -6.7780,  1.9595,  5.7442, -3.5240,  3.7241, -2.6907,\n",
            "         -3.3626,  6.1623, 10.6323, -2.7666,  5.0971, -5.8932,  4.0336, -1.1079,\n",
            "          0.9237,  5.0393,  5.3664, -9.6605,  2.0151, -4.8899, -2.2649, -6.0235,\n",
            "          5.0860,  2.1845,  1.9721, -7.7943,  2.0457,  0.5361, -5.7816, -6.7584,\n",
            "          3.9026, -8.3702,  3.7157,  4.2708,  5.1234, -2.2352, -3.3131, -3.7612],\n",
            "        [ 4.8202, -6.4881,  7.2627,  6.2455,  6.1006, -3.9755,  2.7863, -2.0638,\n",
            "         -4.7480,  3.3226,  1.9200, -7.8965, -1.8038, -3.5086, -2.3917,  2.4060,\n",
            "          0.6299,  1.3208, -5.9522, -4.7168,  4.3961,  3.9625,  4.5552, -3.2368,\n",
            "          2.1069, -2.5306, -6.0137,  1.7591,  5.1170, -3.1773,  3.3398, -2.4066,\n",
            "         -2.9982,  5.4781,  9.3925, -2.4944,  4.5544, -5.2431,  3.6181, -0.9805,\n",
            "          0.8100,  4.5056,  4.8020, -8.5366,  1.8013, -4.3702, -2.0325, -5.3701,\n",
            "          4.5486,  1.9776,  1.7715, -6.9106,  1.8450,  0.4829, -5.1495, -6.0091,\n",
            "          3.5094, -7.3945,  3.3175,  3.8325,  4.5877, -2.0215, -2.9778, -3.3851],\n",
            "        [ 4.3502, -5.8117,  6.4977,  5.5876,  5.4740, -3.5970,  2.5204, -1.8763,\n",
            "         -4.2813,  3.0150,  1.7586, -7.0497, -1.6625, -3.1793, -2.1905,  2.1853,\n",
            "          0.5983,  1.2250, -5.3445, -4.2592,  3.9629,  3.5825,  4.1121, -2.9388,\n",
            "          1.9286, -2.2895, -5.3903,  1.6202,  4.6008, -2.8752,  3.0225, -2.1941,\n",
            "         -2.7230,  4.9180,  8.3578, -2.2658,  4.1041, -4.7167,  3.2843, -0.9137,\n",
            "          0.7409,  4.0729,  4.3138, -7.6076,  1.6583, -3.9421, -1.8652, -4.8321,\n",
            "          4.0846,  1.7783,  1.6243, -6.1797,  1.6978,  0.4033, -4.6372, -5.3778,\n",
            "          3.1664, -6.6037,  3.0128,  3.4370,  4.1448, -1.8314, -2.7166, -3.0701]]), 'Eibar': tensor([[  5.3956,  -7.3051,   8.1932,   7.0183,   6.8587,  -4.4268,   3.0998,\n",
            "          -2.2895,  -5.3137,   3.6978,   2.1245,  -8.9302,  -1.9910,  -3.9021,\n",
            "          -2.6103,   2.6624,   0.6739,   1.4590,  -6.6920,  -5.2760,   4.9175,\n",
            "           4.4184,   5.1063,  -3.6111,   2.3186,  -2.8068,  -6.7628,   1.9371,\n",
            "           5.7316,  -3.5249,   3.7106,  -2.6683,  -3.3400,   6.1542,  10.6278,\n",
            "          -2.7717,   5.0951,  -5.8734,   4.0262,  -1.0752,   0.9081,   5.0316,\n",
            "           5.3689,  -9.6505,   1.9850,  -4.8821,  -2.2412,  -6.0180,   5.0906,\n",
            "           2.2053,   1.9570,  -7.7854,   2.0308,   0.5624,  -5.7716,  -6.7592,\n",
            "           3.9009,  -8.3599,   3.6909,   4.2886,   5.1138,  -2.2452,  -3.2964,\n",
            "          -3.7610],\n",
            "        [  4.6158,  -6.2088,   6.9534,   5.9695,   5.8494,  -3.8189,   2.6709,\n",
            "          -1.9949,  -4.5565,   3.1925,   1.8533,  -7.5498,  -1.7384,  -3.3799,\n",
            "          -2.2949,   2.3148,   0.6222,   1.2740,  -5.6987,  -4.5270,   4.2261,\n",
            "           3.8000,   4.3656,  -3.1069,   2.0140,  -2.4306,  -5.7485,   1.6908,\n",
            "           4.9088,  -3.0529,   3.2096,  -2.3164,  -2.8878,   5.2577,   8.9675,\n",
            "          -2.4053,   4.3817,  -5.0262,   3.4854,  -0.9441,   0.7803,   4.3220,\n",
            "           4.5939,  -8.1535,   1.7337,  -4.1886,  -1.9556,  -5.1405,   4.3563,\n",
            "           1.9085,   1.7053,  -6.6108,   1.7721,   0.4583,  -4.9462,  -5.7577,\n",
            "           3.3603,  -7.0795,   3.1841,   3.6753,   4.3994,  -1.9434,  -2.8563,\n",
            "          -3.2488],\n",
            "        [  5.1093,  -6.9064,   7.7415,   6.6364,   6.4903,  -4.2085,   2.9431,\n",
            "          -2.1833,  -5.0422,   3.5165,   2.0274,  -8.4212,  -1.8950,  -3.7116,\n",
            "          -2.4979,   2.5352,   0.6650,   1.3940,  -6.3290,  -5.0050,   4.6703,\n",
            "           4.1933,   4.8375,  -3.4300,   2.2060,  -2.6695,  -6.3930,   1.8513,\n",
            "           5.4336,  -3.3541,   3.5287,  -2.5411,  -3.1766,   5.8321,  10.0153,\n",
            "          -2.6401,   4.8380,  -5.5662,   3.8315,  -1.0284,   0.8640,   4.7759,\n",
            "           5.0867,  -9.1003,   1.8950,  -4.6305,  -2.1387,  -5.6958,   4.8231,\n",
            "           2.0987,   1.8655,  -7.3530,   1.9363,   0.5221,  -5.4737,  -6.3968,\n",
            "           3.7047,  -7.8921,   3.5137,   4.0665,   4.8523,  -2.1340,  -3.1361,\n",
            "          -3.5747],\n",
            "        [  4.3062,  -5.7928,   6.4732,   5.5689,   5.4544,  -3.5808,   2.5171,\n",
            "          -1.8898,  -4.2695,   3.0013,   1.7509,  -7.0209,  -1.6503,  -3.1732,\n",
            "          -2.1774,   2.1795,   0.6213,   1.2046,  -5.3074,  -4.2280,   3.9656,\n",
            "           3.5725,   4.0820,  -2.9125,   1.8994,  -2.2961,  -5.3758,   1.6042,\n",
            "           4.5993,  -2.8828,   3.0219,  -2.1898,  -2.7240,   4.9196,   8.3148,\n",
            "          -2.2630,   4.1117,  -4.6959,   3.2760,  -0.8828,   0.7481,   4.0532,\n",
            "           4.3166,  -7.5722,   1.6290,  -3.9380,  -1.8418,  -4.8187,   4.0899,\n",
            "           1.7991,   1.6233,  -6.1672,   1.6757,   0.4209,  -4.6305,  -5.3851,\n",
            "           3.1605,  -6.5920,   3.0017,   3.4496,   4.1193,  -1.8254,  -2.6915,\n",
            "          -3.0605],\n",
            "        [  5.3878,  -7.2903,   8.1721,   7.0092,   6.8402,  -4.4229,   3.1016,\n",
            "          -2.2832,  -5.3013,   3.6939,   2.1203,  -8.9067,  -1.9914,  -3.8955,\n",
            "          -2.6228,   2.6603,   0.6634,   1.4553,  -6.6768,  -5.2655,   4.9035,\n",
            "           4.4154,   5.0949,  -3.6008,   2.3271,  -2.8091,  -6.7521,   1.9370,\n",
            "           5.7188,  -3.5242,   3.7070,  -2.6640,  -3.3307,   6.1348,  10.6051,\n",
            "          -2.7681,   5.0814,  -5.8612,   4.0174,  -1.0717,   0.9035,   5.0276,\n",
            "           5.3681,  -9.6290,   1.9800,  -4.8788,  -2.2400,  -6.0133,   5.0864,\n",
            "           2.2010,   1.9569,  -7.7680,   2.0343,   0.5639,  -5.7566,  -6.7424,\n",
            "           3.9025,  -8.3326,   3.6862,   4.2848,   5.1105,  -2.2470,  -3.3017,\n",
            "          -3.7624],\n",
            "        [  5.6128,  -7.6087,   8.5365,   7.3133,   7.1438,  -4.6003,   3.2226,\n",
            "          -2.3710,  -5.5236,   3.8412,   2.1987,  -9.3089,  -2.0542,  -4.0550,\n",
            "          -2.7054,   2.7671,   0.6835,   1.5048,  -6.9681,  -5.4884,   5.1154,\n",
            "           4.5945,   5.3084,  -3.7476,   2.4060,  -2.9184,  -7.0406,   2.0027,\n",
            "           5.9649,  -3.6630,   3.8553,  -2.7666,  -3.4652,   6.4058,  11.0905,\n",
            "          -2.8770,   5.2983,  -6.1135,   4.1805,  -1.1083,   0.9387,   5.2299,\n",
            "           5.5881, -10.0643,   2.0549,  -5.0768,  -2.3207,  -6.2623,   5.3011,\n",
            "           2.2943,   2.0268,  -8.1133,   2.1030,   0.5972,  -6.0042,  -7.0426,\n",
            "           4.0592,  -8.7130,   3.8282,   4.4682,   5.3207,  -2.3338,  -3.4191,\n",
            "          -3.9079],\n",
            "        [  5.2435,  -7.0798,   7.9373,   6.8078,   6.6535,  -4.3069,   3.0218,\n",
            "          -2.2279,  -5.1543,   3.5975,   2.0707,  -8.6466,  -1.9568,  -3.8000,\n",
            "          -2.5554,   2.5963,   0.6516,   1.4202,  -6.4909,  -5.1268,   4.7681,\n",
            "           4.2978,   4.9559,  -3.5069,   2.2719,  -2.7331,  -6.5567,   1.8873,\n",
            "           5.5609,  -3.4282,   3.6126,  -2.5990,  -3.2466,   5.9580,  10.2916,\n",
            "          -2.6987,   4.9448,  -5.7033,   3.9143,  -1.0493,   0.8834,   4.8902,\n",
            "           5.2133,  -9.3466,   1.9347,  -4.7454,  -2.1874,  -5.8461,   4.9443,\n",
            "           2.1388,   1.9111,  -7.5484,   1.9871,   0.5457,  -5.5971,  -6.5481,\n",
            "           3.7956,  -8.0913,   3.5819,   4.1641,   4.9768,  -2.1912,  -3.2191,\n",
            "          -3.6626],\n",
            "        [  5.4333,  -7.3603,   8.2541,   7.0730,   6.9085,  -4.4603,   3.1217,\n",
            "          -2.3036,  -5.3514,   3.7253,   2.1363,  -8.9942,  -1.9977,  -3.9293,\n",
            "          -2.6316,   2.6819,   0.6777,   1.4657,  -6.7406,  -5.3148,   4.9561,\n",
            "           4.4507,   5.1409,  -3.6336,   2.3344,  -2.8289,  -6.8111,   1.9497,\n",
            "           5.7738,  -3.5523,   3.7366,  -2.6845,  -3.3600,   6.2018,  10.7088,\n",
            "          -2.7920,   5.1324,  -5.9167,   4.0550,  -1.0793,   0.9104,   5.0689,\n",
            "           5.4099,  -9.7221,   1.9972,  -4.9174,  -2.2552,  -6.0605,   5.1298,\n",
            "           2.2241,   1.9677,  -7.8407,   2.0434,   0.5693,  -5.8142,  -6.8121,\n",
            "           3.9325,  -8.4208,   3.7178,   4.3243,   5.1522,  -2.2616,  -3.3179,\n",
            "          -3.7891],\n",
            "        [  4.7295,  -6.3496,   7.1141,   6.0978,   5.9799,  -3.9019,   2.7265,\n",
            "          -2.0274,  -4.6568,   3.2657,   1.8961,  -7.7251,  -1.7771,  -3.4468,\n",
            "          -2.3404,   2.3590,   0.6259,   1.3142,  -5.8339,  -4.6357,   4.3142,\n",
            "           3.8821,   4.4726,  -3.1845,   2.0647,  -2.4729,  -5.8752,   1.7351,\n",
            "           5.0092,  -3.1058,   3.2701,  -2.3661,  -2.9488,   5.3694,   9.1709,\n",
            "          -2.4545,   4.4685,  -5.1369,   3.5601,  -0.9769,   0.8039,   4.4218,\n",
            "           4.6835,  -8.3380,   1.7811,  -4.2773,  -2.0047,  -5.2530,   4.4418,\n",
            "           1.9341,   1.7441,  -6.7525,   1.8184,   0.4589,  -5.0537,  -5.8758,\n",
            "           3.4254,  -7.2394,   3.2581,   3.7433,   4.4960,  -1.9811,  -2.9250,\n",
            "          -3.3177],\n",
            "        [  5.3609,  -7.2594,   8.1432,   6.9769,   6.8254,  -4.4034,   3.0820,\n",
            "          -2.2780,  -5.2882,   3.6779,   2.1146,  -8.8683,  -1.9646,  -3.8899,\n",
            "          -2.6024,   2.6561,   0.6816,   1.4482,  -6.6510,  -5.2497,   4.8997,\n",
            "           4.3953,   5.0741,  -3.5919,   2.3020,  -2.7944,  -6.7181,   1.9243,\n",
            "           5.7070,  -3.5106,   3.6959,  -2.6567,  -3.3265,   6.1274,  10.5580,\n",
            "          -2.7571,   5.0750,  -5.8458,   4.0087,  -1.0688,   0.9039,   5.0016,\n",
            "           5.3388,  -9.5862,   1.9762,  -4.8549,  -2.2286,  -5.9795,   5.0657,\n",
            "           2.1983,   1.9479,  -7.7399,   2.0168,   0.5602,  -5.7458,  -6.7282,\n",
            "           3.8828,  -8.3101,   3.6702,   4.2704,   5.0889,  -2.2323,  -3.2741,\n",
            "          -3.7400],\n",
            "        [  5.2910,  -7.1545,   8.0252,   6.8814,   6.7394,  -4.3477,   3.0457,\n",
            "          -2.2520,  -5.2154,   3.6307,   2.0889,  -8.7376,  -1.9306,  -3.8544,\n",
            "          -2.5762,   2.6365,   0.6813,   1.4235,  -6.5602,  -5.1828,   4.8371,\n",
            "           4.3414,   5.0036,  -3.5439,   2.2765,  -2.7658,  -6.6233,   1.8942,\n",
            "           5.6357,  -3.4709,   3.6568,  -2.6256,  -3.2859,   6.0430,  10.4028,\n",
            "          -2.7271,   5.0128,  -5.7735,   3.9605,  -1.0542,   0.8908,   4.9311,\n",
            "           5.2674,  -9.4470,   1.9540,  -4.7908,  -2.2006,  -5.8995,   5.0025,\n",
            "           2.1760,   1.9268,  -7.6392,   1.9923,   0.5575,  -5.6697,  -6.6384,\n",
            "           3.8381,  -8.1916,   3.6125,   4.2181,   5.0309,  -2.2113,  -3.2319,\n",
            "          -3.6940]])}\n"
          ]
        }
      ]
    },
    {
      "cell_type": "code",
      "source": [
        "# make meatch_result_new dataframe for convinience of analysis\n",
        "\n",
        "all_team_vectors = []\n",
        "match_results_new = []\n",
        "\n",
        "for match_id in tqdm(big_league_1516_id):\n",
        "    team_vectors = pool_player_embeddings_with_model(match_id, player_embeddings_1516, generate_pass_map)\n",
        "    if team_vectors is not None:\n",
        "        for team_name, vector in team_vectors.items():\n",
        "            all_team_vectors.append(vector)\n",
        "            for match_ in match_list:\n",
        "                if match_.match_id == match_id:\n",
        "                    idx = match_list.index(match_)\n",
        "                    break\n",
        "            match_results_new.append({\n",
        "                'match_id': match_id,\n",
        "                'team_name': team_name,\n",
        "                'vector': vector,\n",
        "                'score': match_list[idx].home_score if team_name == match_list[idx].home_team else match_list[idx].away_score\n",
        "            })\n",
        "\n",
        "match_results_new_df = pd.DataFrame(match_results_new)"
      ],
      "metadata": {
        "colab": {
          "base_uri": "https://localhost:8080/"
        },
        "id": "4AguXeYR5BZv",
        "outputId": "bf2c45b9-c839-49f2-af5a-4b0021b7243d"
      },
      "id": "4AguXeYR5BZv",
      "execution_count": 150,
      "outputs": [
        {
          "output_type": "stream",
          "name": "stderr",
          "text": [
            "100%|██████████| 1823/1823 [22:52<00:00,  1.33it/s]\n"
          ]
        }
      ]
    },
    {
      "cell_type": "code",
      "source": [
        "# Remove if shape is 10 or lower\n",
        "m_r = []\n",
        "for match in match_results_new :\n",
        "    if match['vector'].shape[0] == 11 :\n",
        "        m_r.append(match)\n",
        "\n",
        "m_r_df = pd.DataFrame(m_r)"
      ],
      "metadata": {
        "id": "SDQri9k-jxqT"
      },
      "id": "SDQri9k-jxqT",
      "execution_count": 226,
      "outputs": []
    },
    {
      "cell_type": "code",
      "source": [
        "# Team won: 2, draw: 1, lose: 0\n",
        "def res(idx):\n",
        "    matchid = m_r_df.iloc[idx]['match_id']\n",
        "\n",
        "    if idx == 0:\n",
        "        idx_cmp = idx+1\n",
        "    elif idx == len(m_r_df):\n",
        "        idx_cmp = idx-1\n",
        "    elif matchid == m_r_df.iloc[idx-1]['match_id']:\n",
        "        idx_cmp = idx-1\n",
        "    else:\n",
        "        idx_cmp = idx+1\n",
        "\n",
        "    home_score = m_r_df.iloc[idx]['score']\n",
        "    away_score = m_r_df.iloc[idx_cmp]['score']\n",
        "\n",
        "    if home_score > away_score:\n",
        "        return 2\n",
        "    elif home_score < away_score:\n",
        "        return 0\n",
        "    else:\n",
        "        return 1\n"
      ],
      "metadata": {
        "id": "1kXG-FBZI8an"
      },
      "id": "1kXG-FBZI8an",
      "execution_count": 227,
      "outputs": []
    },
    {
      "cell_type": "code",
      "source": [
        "from sklearn.model_selection import KFold\n",
        "from torch.utils.data import DataLoader, TensorDataset\n",
        "\n",
        "team_vectors = [result['vector'] for _,result in m_r_df.iterrows()]\n",
        "team_vectors = torch.stack(team_vectors)\n",
        "match_outcomes = torch.tensor([res(idx) for idx in range(len(m_r_df))])\n",
        "\n",
        "dataset = TensorDataset(team_vectors, match_outcomes)"
      ],
      "metadata": {
        "id": "ECRaxSjxI3gE"
      },
      "id": "ECRaxSjxI3gE",
      "execution_count": 228,
      "outputs": []
    },
    {
      "cell_type": "code",
      "source": [
        "# Predict model by neural network\n",
        "class OutcomePredictionModel(nn.Module):\n",
        "    def __init__(self, input_size, hidden_size, num_classes):\n",
        "        super(OutcomePredictionModel, self).__init__()\n",
        "        self.fc1 = nn.Linear(input_size, hidden_size)\n",
        "        self.fc2 = nn.Linear(hidden_size, hidden_size)\n",
        "        self.fc3 = nn.Linear(hidden_size, num_classes)\n",
        "\n",
        "    def forward(self, x):\n",
        "        x = F.relu(self.fc1(x))\n",
        "        x = F.relu(self.fc2(x))\n",
        "        x = self.fc3(x)  # No activation here, CrossEntropyLoss will apply softmax\n",
        "        return x\n",
        "\n",
        "input_size = len(m_r_df.iloc[0]['vector'])\n",
        "hidden_size = 128\n",
        "num_classes = 3\n",
        "\n",
        "model2 = OutcomePredictionModel(input_size, hidden_size, num_classes)\n",
        "criterion = nn.CrossEntropyLoss()\n",
        "optimizer = torch.optim.Adam(model.parameters(), lr=0.001)"
      ],
      "metadata": {
        "id": "yxH_lscuJDcM"
      },
      "id": "yxH_lscuJDcM",
      "execution_count": 229,
      "outputs": []
    },
    {
      "cell_type": "code",
      "source": [
        "# Perform pooling in layers\n",
        "class Pooling_Classfication_Model(nn.Module):\n",
        "    def __init__(self, input_dim, hidden_dim, output_dim, hidden_c_dim):\n",
        "        super(Pooling_Classfication_Model, self).__init__()\n",
        "        self.fc1 = nn.Linear(input_dim, hidden_dim)\n",
        "        self.fc2 = nn.Linear(hidden_dim, output_dim)\n",
        "        self.fc3 = nn.Linear(output_dim, hidden_dim)\n",
        "        self.fc4 = nn.Linear(hidden_dim, hidden_c_dim)\n",
        "        self.fc5 = nn.Linear(hidden_c_dim, 3)\n",
        "\n",
        "    def forward(self, player_embeddings):\n",
        "        # First pooling layer\n",
        "        x = torch.mean(player_embeddings, dim=1)  # shape: [batch_size, input_dim]\n",
        "        x = F.relu(self.fc1(x))  # shape: [batch_size, hidden_dim]\n",
        "        x = self.fc2(x)  # shape: [batch_size, output_dim]\n",
        "        x = F.relu(self.fc3(x))  # shape: [batch_size, hidden_dim]\n",
        "        x = F.relu(self.fc4(x))  # shape: [batch_size, hidden_c_dim]\n",
        "\n",
        "        # Output layer\n",
        "        x = self.fc5(x)\n",
        "        return x\n",
        "\n",
        "model = Pooling_Classfication_Model(64, 128, 64, 32)\n",
        "criterion = nn.CrossEntropyLoss()\n",
        "optimizer = torch.optim.Adam(model.parameters(), lr=0.01)"
      ],
      "metadata": {
        "id": "s7Rx8_gvki9f"
      },
      "id": "s7Rx8_gvki9f",
      "execution_count": 230,
      "outputs": []
    },
    {
      "cell_type": "code",
      "source": [
        "# Perform K-fold cross validation with 8 splits\n",
        "dataset = TensorDataset(team_vectors, match_outcomes)\n",
        "kf = KFold(n_splits=10)\n",
        "results = []\n",
        "\n",
        "for train_index, test_index in kf.split(team_vectors):\n",
        "    train_dataset = TensorDataset(team_vectors[train_index], match_outcomes[train_index])\n",
        "    test_dataset = TensorDataset(team_vectors[test_index], match_outcomes[test_index])\n",
        "\n",
        "    train_loader = DataLoader(train_dataset, batch_size=10, shuffle=True)\n",
        "    test_loader = DataLoader(test_dataset, batch_size=10, shuffle=False)\n",
        "\n",
        "    # Training the model\n",
        "    for epoch in range(50):  # Reduced number of epochs for demonstration\n",
        "        model.train()\n",
        "        for vectors, outcomes in train_loader:\n",
        "            optimizer.zero_grad()\n",
        "            predictions = model(vectors)\n",
        "            loss = criterion(predictions, outcomes)\n",
        "            loss.backward()\n",
        "            optimizer.step()\n",
        "\n",
        "    # Evaluate the model\n",
        "    model.eval()\n",
        "    correct = 0\n",
        "    total = 0\n",
        "    with torch.no_grad():\n",
        "        for vectors, outcomes in test_loader:\n",
        "            predictions = model(vectors)\n",
        "            predicted_classes = predictions.argmax(dim=1)\n",
        "            correct += (predicted_classes == outcomes).sum().item()\n",
        "            total += outcomes.size(0)\n",
        "\n",
        "    accuracy = correct / total\n",
        "    results.append(accuracy)\n",
        "\n",
        "print(f'Average accuracy across folds: {np.mean(results)}')"
      ],
      "metadata": {
        "colab": {
          "base_uri": "https://localhost:8080/"
        },
        "id": "2zdg4OmrMzwx",
        "outputId": "5ef17c8b-e681-4ff5-f02e-a1f9f1cd0bb6"
      },
      "id": "2zdg4OmrMzwx",
      "execution_count": 239,
      "outputs": [
        {
          "output_type": "stream",
          "name": "stdout",
          "text": [
            "Average accuracy across folds: 0.3698092720234161\n"
          ]
        }
      ]
    },
    {
      "cell_type": "code",
      "source": [],
      "metadata": {
        "id": "qYwryYmWHpMa"
      },
      "id": "qYwryYmWHpMa",
      "execution_count": null,
      "outputs": []
    }
  ],
  "metadata": {
    "accelerator": "TPU",
    "colab": {
      "gpuType": "V28",
      "machine_shape": "hm",
      "provenance": []
    },
    "kernelspec": {
      "display_name": "Python 3 (ipykernel)",
      "language": "python",
      "name": "python3"
    },
    "language_info": {
      "codemirror_mode": {
        "name": "ipython",
        "version": 3
      },
      "file_extension": ".py",
      "mimetype": "text/x-python",
      "name": "python",
      "nbconvert_exporter": "python",
      "pygments_lexer": "ipython3",
      "version": "3.10.9"
    }
  },
  "nbformat": 4,
  "nbformat_minor": 5
}